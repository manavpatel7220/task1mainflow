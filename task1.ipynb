{
  "nbformat": 4,
  "nbformat_minor": 0,
  "metadata": {
    "colab": {
      "provenance": [],
      "authorship_tag": "ABX9TyNMwRwekkvng2GYN4tdm4NH",
      "include_colab_link": true
    },
    "kernelspec": {
      "name": "python3",
      "display_name": "Python 3"
    },
    "language_info": {
      "name": "python"
    }
  },
  "cells": [
    {
      "cell_type": "markdown",
      "metadata": {
        "id": "view-in-github",
        "colab_type": "text"
      },
      "source": [
        "<a href=\"https://colab.research.google.com/github/manavpatel7220/task1mainflow/blob/main/task1.ipynb\" target=\"_parent\"><img src=\"https://colab.research.google.com/assets/colab-badge.svg\" alt=\"Open In Colab\"/></a>"
      ]
    },
    {
      "cell_type": "markdown",
      "source": [],
      "metadata": {
        "id": "Bzn4eIvcPkM4"
      }
    },
    {
      "cell_type": "markdown",
      "source": [
        "Task 1"
      ],
      "metadata": {
        "id": "fRz4ow94Psg3"
      }
    },
    {
      "cell_type": "markdown",
      "source": [
        "1)List:\n",
        "-It is an ordered collection of items which can be of any type.\n",
        "-It is mutable.(it means elements can be changed after they are created)\n",
        "\n",
        "-syntax=\n",
        "    mylist = [\"element1\", \"element2\", \"element3\", ...]\n",
        "    \n",
        "2)Dictionary:\n",
        "-It is is an unordered collection of key-value pairs.\n",
        "-It is mutable.(it means elements can be changed after they are created)\n",
        "-The keys must be unique and of an immutable.\n",
        "\n",
        "-Syntax:\n",
        "    mydict = {key1: \"value1\", key2: \"value2\", key3: \"value3\", ...}\n",
        "    \n",
        "3)Sets:\n",
        "-It is an unordered collection of unique elements.\n",
        "-Sets are mutable but the elements must be immutable types.\n",
        "\n",
        "-Syntax:\n",
        "    # Using curly braces\n",
        "    myset = {\"element1\", \"element2\", \"element3\", ...}\n",
        "\n",
        "    # Using set() function\n",
        "    myset = set([\"element1\", \"element2\", \"element3\", ...])"
      ],
      "metadata": {
        "id": "ec3Nbyo5QXir"
      }
    },
    {
      "cell_type": "markdown",
      "source": [
        "Coding Part:"
      ],
      "metadata": {
        "id": "p07ogpruQeC8"
      }
    },
    {
      "cell_type": "markdown",
      "source": [
        "**List**"
      ],
      "metadata": {
        "id": "fOfMsjeCQocU"
      }
    },
    {
      "cell_type": "code",
      "source": [
        "# Create a list\n",
        "mylist = [11, 12,13, 14, 15]\n",
        "\n",
        "print(\"List:\", mylist)"
      ],
      "metadata": {
        "colab": {
          "base_uri": "https://localhost:8080/"
        },
        "id": "JSOl9tLmQhav",
        "outputId": "17998a31-06fe-4bb3-9514-e6b900fac242"
      },
      "execution_count": 3,
      "outputs": [
        {
          "output_type": "stream",
          "name": "stdout",
          "text": [
            "List: [11, 12, 13, 14, 15]\n"
          ]
        }
      ]
    },
    {
      "cell_type": "code",
      "source": [
        "# Adding elements\n",
        "mylist.append(16)\n",
        "\n",
        "print(\"After adding:\", mylist)"
      ],
      "metadata": {
        "colab": {
          "base_uri": "https://localhost:8080/"
        },
        "id": "-uxx_V7pRgzT",
        "outputId": "6a4ff775-fd7c-487d-f018-ed383c755a3d"
      },
      "execution_count": 4,
      "outputs": [
        {
          "output_type": "stream",
          "name": "stdout",
          "text": [
            "After adding: [11, 12, 13, 14, 15, 16]\n"
          ]
        }
      ]
    },
    {
      "cell_type": "code",
      "source": [
        "# Removing elements\n",
        "mylist.remove(13)\n",
        "\n",
        "print(\"After removing:\", mylist)"
      ],
      "metadata": {
        "colab": {
          "base_uri": "https://localhost:8080/"
        },
        "id": "Okg5bd6SRuKI",
        "outputId": "94287f09-fc6a-48d5-ddef-48aa669a08e7"
      },
      "execution_count": 5,
      "outputs": [
        {
          "output_type": "stream",
          "name": "stdout",
          "text": [
            "After removing: [11, 12, 14, 15, 16]\n"
          ]
        }
      ]
    },
    {
      "cell_type": "code",
      "source": [
        "# Modifying elements\n",
        "mylist[3] = 21  # Changes the element at index 3 to 21\n",
        "\n",
        "print(\"After modifying element:\", mylist)"
      ],
      "metadata": {
        "colab": {
          "base_uri": "https://localhost:8080/"
        },
        "id": "hIeBMDY-R6XM",
        "outputId": "8a8894c3-9b8e-4fa7-caff-3eefab95aaf2"
      },
      "execution_count": 6,
      "outputs": [
        {
          "output_type": "stream",
          "name": "stdout",
          "text": [
            "After modifying element: [11, 12, 14, 21, 16]\n"
          ]
        }
      ]
    },
    {
      "cell_type": "code",
      "source": [
        "#Extra\n",
        "\n",
        "# Inserting an element at a specific position\n",
        "mylist.insert(5,6)  # Insert 6 at index 5\n",
        "print(\"List after inserting an element:\", mylist)\n",
        "print()\n",
        "\n",
        "# Reversing the list\n",
        "mylist.reverse()\n",
        "print(\"List after reversing:\", mylist)\n",
        "print()\n",
        "\n",
        "# Sorting the list\n",
        "mylist.sort()\n",
        "print(\"List after sorting:\", mylist)\n",
        "print()\n",
        "\n",
        "# Sorting the list in descending order\n",
        "mylist.sort(reverse=True)\n",
        "print(\"List after sorting in descending order:\", mylist)\n",
        "print()\n",
        "\n",
        "# Extending the list by another list\n",
        "mylist.extend([7, 8, 9])\n",
        "print(\"List after extending:\", mylist)\n",
        "print()\n",
        "\n",
        "# Slicing a list\n",
        "sublist = mylist[2:5]  # Elements from index 2 to 4\n",
        "print(\"Sublist from index 2 to 4:\", sublist)\n",
        "print()\n",
        "\n",
        "# Checking if an element exists in the list\n",
        "element_exists = 3 in mylist\n",
        "print(\"Does element 3 exist in the list?\", element_exists)\n",
        "print()\n",
        "\n",
        "# Clearing all elements from the list\n",
        "mylist.clear()\n",
        "print(\"List after clearing all elements:\", mylist)\n",
        "print()"
      ],
      "metadata": {
        "colab": {
          "base_uri": "https://localhost:8080/"
        },
        "id": "New0Rg_5SFmu",
        "outputId": "c5f4d85f-8944-4c60-bdc1-5697a9493494"
      },
      "execution_count": 16,
      "outputs": [
        {
          "output_type": "stream",
          "name": "stdout",
          "text": [
            "List after inserting an element: [21, 16, 14, 12, 11, 6, 9, 9, 9, 9, 9, 9, 9, 9, 8, 8, 8, 8, 8, 8, 8, 8, 7, 7, 7, 7, 7, 7, 7, 7, 6, 6, 6, 6, 6, 6, 6, 6, 6, 7, 8, 9]\n",
            "\n",
            "List after reversing: [9, 8, 7, 6, 6, 6, 6, 6, 6, 6, 6, 6, 7, 7, 7, 7, 7, 7, 7, 7, 8, 8, 8, 8, 8, 8, 8, 8, 9, 9, 9, 9, 9, 9, 9, 9, 6, 11, 12, 14, 16, 21]\n",
            "\n",
            "List after sorting: [6, 6, 6, 6, 6, 6, 6, 6, 6, 6, 7, 7, 7, 7, 7, 7, 7, 7, 7, 8, 8, 8, 8, 8, 8, 8, 8, 8, 9, 9, 9, 9, 9, 9, 9, 9, 9, 11, 12, 14, 16, 21]\n",
            "\n",
            "List after sorting in descending order: [21, 16, 14, 12, 11, 9, 9, 9, 9, 9, 9, 9, 9, 9, 8, 8, 8, 8, 8, 8, 8, 8, 8, 7, 7, 7, 7, 7, 7, 7, 7, 7, 6, 6, 6, 6, 6, 6, 6, 6, 6, 6]\n",
            "\n",
            "List after extending: [21, 16, 14, 12, 11, 9, 9, 9, 9, 9, 9, 9, 9, 9, 8, 8, 8, 8, 8, 8, 8, 8, 8, 7, 7, 7, 7, 7, 7, 7, 7, 7, 6, 6, 6, 6, 6, 6, 6, 6, 6, 6, 7, 8, 9]\n",
            "\n",
            "Sublist from index 2 to 4: [14, 12, 11]\n",
            "\n",
            "Does element 3 exist in the list? False\n",
            "\n",
            "List after clearing all elements: []\n",
            "\n"
          ]
        }
      ]
    },
    {
      "cell_type": "markdown",
      "source": [
        "**Dictionary**"
      ],
      "metadata": {
        "id": "_uvMYgdTTzeU"
      }
    },
    {
      "cell_type": "code",
      "source": [
        "# Creating a dictionary\n",
        "mydict = {'name': 'Manav','age': 21,'Country': 'India'}\n",
        "\n",
        "print(mydict)"
      ],
      "metadata": {
        "colab": {
          "base_uri": "https://localhost:8080/"
        },
        "id": "MY0D0GncT27x",
        "outputId": "df1a4817-a2ce-452e-8a8a-8c4559923ad2"
      },
      "execution_count": 17,
      "outputs": [
        {
          "output_type": "stream",
          "name": "stdout",
          "text": [
            "{'name': 'Manav', 'age': 21, 'Country': 'India'}\n"
          ]
        }
      ]
    },
    {
      "cell_type": "code",
      "source": [
        "# Adding a new key-value pair\n",
        "mydict['sex'] = 'Male'\n",
        "\n",
        "print(mydict)"
      ],
      "metadata": {
        "colab": {
          "base_uri": "https://localhost:8080/"
        },
        "id": "pYSNj7roT9w7",
        "outputId": "03b7437c-192a-4137-9225-fe19bb3c7a38"
      },
      "execution_count": 18,
      "outputs": [
        {
          "output_type": "stream",
          "name": "stdout",
          "text": [
            "{'name': 'Manav', 'age': 21, 'Country': 'India', 'sex': 'Male'}\n"
          ]
        }
      ]
    },
    {
      "cell_type": "code",
      "source": [
        "# Using pop() to remove an element\n",
        "sex = mydict.pop('sex')\n",
        "\n",
        "print('Removed sex:', sex)\n",
        "print(mydict)"
      ],
      "metadata": {
        "colab": {
          "base_uri": "https://localhost:8080/"
        },
        "id": "zxlXDFzZUH91",
        "outputId": "d0eb604b-4df5-4271-b670-65aff861e23c"
      },
      "execution_count": 19,
      "outputs": [
        {
          "output_type": "stream",
          "name": "stdout",
          "text": [
            "Removed sex: Male\n",
            "{'name': 'Manav', 'age': 21, 'Country': 'India'}\n"
          ]
        }
      ]
    },
    {
      "cell_type": "code",
      "source": [
        "# Modifying an existing key-value pair\n",
        "mydict['age'] = 18\n",
        "\n",
        "print(mydict)"
      ],
      "metadata": {
        "colab": {
          "base_uri": "https://localhost:8080/"
        },
        "id": "fOM7GqjHUOfm",
        "outputId": "051d8154-4851-42fe-cc84-e867f86ffebc"
      },
      "execution_count": 20,
      "outputs": [
        {
          "output_type": "stream",
          "name": "stdout",
          "text": [
            "{'name': 'Manav', 'age': 18, 'Country': 'India'}\n"
          ]
        }
      ]
    },
    {
      "cell_type": "markdown",
      "source": [
        "\n",
        "\n",
        "Set"
      ],
      "metadata": {
        "id": "WLzrsKFcUZAp"
      }
    },
    {
      "cell_type": "code",
      "source": [
        "# Creating a set\n",
        "myset = {11, 22, 33, 44, 55}\n",
        "print(\"Set:\", myset)"
      ],
      "metadata": {
        "colab": {
          "base_uri": "https://localhost:8080/"
        },
        "id": "dfO4tPJQUdI0",
        "outputId": "ceb35db9-27a8-4b97-d41d-cb76b98f6777"
      },
      "execution_count": 21,
      "outputs": [
        {
          "output_type": "stream",
          "name": "stdout",
          "text": [
            "Set: {33, 22, 55, 11, 44}\n"
          ]
        }
      ]
    },
    {
      "cell_type": "code",
      "source": [
        "# Adding elements\n",
        "myset.add(66)\n",
        "print(\"After adding:\", myset)"
      ],
      "metadata": {
        "colab": {
          "base_uri": "https://localhost:8080/"
        },
        "id": "chlST0eSUkyC",
        "outputId": "20fe2234-97b5-4562-df48-0788408809ff"
      },
      "execution_count": 22,
      "outputs": [
        {
          "output_type": "stream",
          "name": "stdout",
          "text": [
            "After adding: {33, 66, 22, 55, 11, 44}\n"
          ]
        }
      ]
    },
    {
      "cell_type": "code",
      "source": [
        "# Using remove() to remove an element\n",
        "myset.remove(66)\n",
        "print(\"After removing:\", myset)"
      ],
      "metadata": {
        "colab": {
          "base_uri": "https://localhost:8080/"
        },
        "id": "7D9636E9UsAF",
        "outputId": "89e8ed10-db94-42db-d840-402f13ab3014"
      },
      "execution_count": 23,
      "outputs": [
        {
          "output_type": "stream",
          "name": "stdout",
          "text": [
            "After removing: {33, 22, 55, 11, 44}\n"
          ]
        }
      ]
    },
    {
      "cell_type": "code",
      "source": [
        "# Modifying a set: Since sets do not support indexing, you can modify by removing an element and adding another one.\n",
        "# Removing an element and adding a new one\n",
        "myset.remove(55)\n",
        "myset.add(66)\n",
        "print(\"After modifying:\", myset)"
      ],
      "metadata": {
        "colab": {
          "base_uri": "https://localhost:8080/"
        },
        "id": "p6DgSkUoU0oE",
        "outputId": "aec03762-7cea-4697-a6de-99a17b967a5c"
      },
      "execution_count": 25,
      "outputs": [
        {
          "output_type": "stream",
          "name": "stdout",
          "text": [
            "After modifying: {33, 66, 22, 11, 44}\n"
          ]
        }
      ]
    }
  ]
}